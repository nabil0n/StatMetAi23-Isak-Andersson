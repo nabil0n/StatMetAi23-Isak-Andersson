{
 "cells": [
  {
   "cell_type": "markdown",
   "metadata": {},
   "source": [
    "# Föreläsning 1"
   ]
  },
  {
   "cell_type": "markdown",
   "metadata": {},
   "source": [
    "Datatyper:\n",
    " - Nominal\n",
    " - Ordinal\n",
    " - Intervall\n",
    " - Kvot\n",
    " - Diskret\n",
    " - Kontinuerlig\n"
   ]
  },
  {
   "cell_type": "markdown",
   "metadata": {},
   "source": [
    "Populationdata\n",
    "- Beskriver ALLA av något\n",
    "- Statistiker har sällan tillgång till det då det är för st ort eller oändligt, eller destruktivt."
   ]
  },
  {
   "cell_type": "markdown",
   "metadata": {},
   "source": [
    "Stickprov (sample)\n",
    "- Ska representera data så väl som möjligt"
   ]
  },
  {
   "cell_type": "markdown",
   "metadata": {},
   "source": [
    "Centraltendens\n",
    "- Typvärde\n",
    "- Median\n",
    "- Medelvärde (aritmetiskt medelvärde med flera)"
   ]
  },
  {
   "cell_type": "markdown",
   "metadata": {},
   "source": [
    "Typvärde\n",
    "- Det mest förekommande värdet"
   ]
  },
  {
   "cell_type": "markdown",
   "metadata": {},
   "source": [
    "Median\n",
    "- Mittenvärdet av en sorterad lista"
   ]
  },
  {
   "cell_type": "markdown",
   "metadata": {},
   "source": [
    "### Spridningsmått\n",
    "\n",
    "Varians\n",
    "- Avståndet till varje punkt från medelvärdet i kvadrat\n",
    "- Se skillnader och varianter i slajden\n",
    "\n",
    "Standardavvikelse\n",
    "- \"mer lättbegreripligt\"\n",
    "- Ta fram variansen och sen ta roten ur detta. Typ.\n",
    "\n",
    "Kvartilavstånd\n",
    "- "
   ]
  },
  {
   "cell_type": "markdown",
   "metadata": {},
   "source": []
  }
 ],
 "metadata": {
  "language_info": {
   "name": "python"
  }
 },
 "nbformat": 4,
 "nbformat_minor": 2
}
