{
 "cells": [
  {
   "cell_type": "markdown",
   "metadata": {},
   "source": [
    "# Föreläsning 1\n",
    "(https://www.ithsdistans.se/pluginfile.php/90678/mod_resource/content/1/Kap%201.%20-%20Inledning%20och%20deskriptiva%20m%C3%A5tt.pdf)"
   ]
  },
  {
   "cell_type": "markdown",
   "metadata": {},
   "source": [
    "Datatyper:\n",
    " - Nominal\n",
    " - Ordinal\n",
    " - Intervall\n",
    " - Kvot\n",
    " - Diskret\n",
    " - Kontinuerlig\n"
   ]
  },
  {
   "cell_type": "markdown",
   "metadata": {},
   "source": [
    "Populationdata\n",
    "- Beskriver ALLA av något\n",
    "- Statistiker har sällan tillgång till det då det är för st ort eller oändligt, eller destruktivt."
   ]
  },
  {
   "cell_type": "markdown",
   "metadata": {},
   "source": [
    "Stickprov (sample)\n",
    "- Ska representera data så väl som möjligt"
   ]
  },
  {
   "cell_type": "markdown",
   "metadata": {},
   "source": [
    "Centraltendens\n",
    "- Typvärde\n",
    "- Median\n",
    "- Medelvärde (aritmetiskt medelvärde med flera)"
   ]
  },
  {
   "cell_type": "markdown",
   "metadata": {},
   "source": [
    "Typvärde\n",
    "- Det mest förekommande värdet"
   ]
  },
  {
   "cell_type": "markdown",
   "metadata": {},
   "source": [
    "Median\n",
    "- Mittenvärdet av en sorterad lista"
   ]
  },
  {
   "cell_type": "markdown",
   "metadata": {},
   "source": [
    "### Spridningsmått\n",
    "\n",
    "Varians\n",
    "- Avståndet till varje punkt från medelvärdet i kvadrat\n",
    "- Se skillnader och varianter i slajden\n",
    "\n",
    "Standardavvikelse\n",
    "- \"mer lättbegreripligt\" (tappade tråden lite här)\n",
    "- Ta fram variansen och sen ta roten ur detta. Typ.\n",
    "\n",
    "Kvartilavstånd\n",
    "- Utgår från medianen som får heta Q2\n",
    "- Sen blir Q1 och Q3 liksom medianen mellan 0 - Q2 och Q2 - n"
   ]
  },
  {
   "cell_type": "markdown",
   "metadata": {},
   "source": [
    "Medelabsolutavvikelse (Mean Absolute Deviation) (MAD)\n",
    "- Som standardavvikelse men med absoluta tal (förstod jag det rätt?)\n",
    "- Mer robust"
   ]
  }
 ],
 "metadata": {
  "kernelspec": {
   "display_name": "StatMetAi23-Isak-Andersson-e2nV03pU",
   "language": "python",
   "name": "python3"
  },
  "language_info": {
   "name": "python",
   "version": "3.12.0"
  }
 },
 "nbformat": 4,
 "nbformat_minor": 2
}
