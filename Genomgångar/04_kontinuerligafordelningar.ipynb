{
 "cells": [
  {
   "cell_type": "markdown",
   "metadata": {},
   "source": [
    "# Kontinuerliga fördelningar\n",
    "\n",
    "*https://www.ithsdistans.se/pluginfile.php/90686/mod_resource/content/1/Kap%204.%20-%20Kontinuerliga%20f%C3%B6rdelningar.pdf*"
   ]
  },
  {
   "cell_type": "markdown",
   "metadata": {},
   "source": [
    "- Diskret: Uppräknerligt\n",
    "- Kontinuerligt: Ouppräkneligt. Alltså det kan bli hur \"exakt\" som helst. Det går itne att lista. Det finns oändligt antal tal mellan 0 och 1 till exempel."
   ]
  },
  {
   "cell_type": "markdown",
   "metadata": {},
   "source": [
    "#### Täthetsfunktionen (density function)\n",
    "\n",
    "- Litet f!\n",
    "- f(x)\n",
    "- Tänk en bellcurve där allt under \"bellen\" tillsammans blir sannolikhet 1.\n",
    "- Alltså är det arean av det som är under linjen som avgör hur stor sannolikhet det är.\n",
    "- Se bild i slajd. P(0.2<x<0.3)"
   ]
  },
  {
   "cell_type": "markdown",
   "metadata": {},
   "source": [
    "#### Fördelningsfunktionen\n",
    "\n",
    "- Stort F!\n",
    "- F(x) = P(X <= x)\n",
    "\n",
    "- P(c < X < d) = F(d) - F(c)"
   ]
  },
  {
   "cell_type": "markdown",
   "metadata": {},
   "source": [
    "#### Likformig (uniform) fördelning\n",
    "\n",
    "- Det är lika stor chans vart än du mäter sannolikhets-\"arean\". Alltså kan det inte vara en bell curve som tidigare utan grafen bör vara rektangulär typ.\n",
    "- f(x)=(1/(b-a)) Om innanför! ANnars f(x) = 0\n",
    "\n",
    "- Väntevärdet: E(X) = (a + b) / 2\n",
    "- Standardavvilkeslen = SD(X) = (b - a)/12^0.5"
   ]
  },
  {
   "cell_type": "markdown",
   "metadata": {},
   "source": [
    "#### Exponentialfördelning"
   ]
  },
  {
   "cell_type": "markdown",
   "metadata": {},
   "source": [
    "- f(x) = (lambda\\*e)^(-lambda\\*x)\n",
    "- Om grafen liksom går mot 0 (som en dåligt hyvlad ost) så är E(X) = SD(X) = 1 / lambda\n",
    "- Kan man lista ut lambda så kan vi räkna ut arean under linjen.\n",
    "\n",
    "---\n",
    "\n",
    "- Fördelningsfunktionen är: F(x) = 1 - e^(-lambda*x) om x är större än 0.\n",
    "---\n",
    "\n",
    "- Om lambda är högt är graflinjen brantare  och börjar från högre i början.\n",
    "- Märk väl hur skevt det blir med medianen och medelvärdet.\n",
    "- Sannolikheten är större att hamna närmre starten av grafen då vi går mot noll.\n",
    "\n",
    "Bra exempel (på engelska)  islajd."
   ]
  },
  {
   "cell_type": "markdown",
   "metadata": {},
   "source": [
    "#### Normalfördelning"
   ]
  },
  {
   "cell_type": "markdown",
   "metadata": {},
   "source": [
    "- Bell curve!\n",
    "- Symmetrisk\n",
    "- Passar för att beskriva mycket! Det mesta!\n"
   ]
  },
  {
   "cell_type": "markdown",
   "metadata": {},
   "source": [
    "- my-värdet i mitten (skräll)\n",
    "- hälften åt vänster och hälften åt höger"
   ]
  },
  {
   "cell_type": "markdown",
   "metadata": {},
   "source": [
    "- Väntevärde = median = Typvärde\n",
    "- Asymptopisk: Likt exponentialfunktionen går den åt noll åt båda håll men kommer aldrig till noll."
   ]
  },
  {
   "cell_type": "markdown",
   "metadata": {},
   "source": [
    "- Normalfördelningen är fullständigt bestämd av väntevärdet och variansen\n",
    "- täthetsfunktionen är ganska klurig. se slajd."
   ]
  },
  {
   "cell_type": "markdown",
   "metadata": {},
   "source": [
    "- Standard Normal eller Z-fördelning\n",
    "- Att flytta kurvan så att väntevärdet hamnar på 0 och standardavvikelsen är 1.\n",
    "- Görs ibland för att kunna använda sig av tabeller\n",
    "    - Standrad normal tabell (Z) se slajd"
   ]
  },
  {
   "cell_type": "markdown",
   "metadata": {},
   "source": [
    "#### Normalfördelningsapproximationer"
   ]
  },
  {
   "cell_type": "markdown",
   "metadata": {},
   "source": [
    "- Lätt hänt att det blir bökigt att hitta ett exakt tal för sannolikhet, och kanske inte heller alltid så intressant då det ändå är en estimering. \n",
    "- "
   ]
  }
 ],
 "metadata": {
  "kernelspec": {
   "display_name": "StatMetAi23-Isak-Andersson-ej7jo_my",
   "language": "python",
   "name": "python3"
  },
  "language_info": {
   "name": "python",
   "version": "3.12.0"
  },
  "orig_nbformat": 4
 },
 "nbformat": 4,
 "nbformat_minor": 2
}
