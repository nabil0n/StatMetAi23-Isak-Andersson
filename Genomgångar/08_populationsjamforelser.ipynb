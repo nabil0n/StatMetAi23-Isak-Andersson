{
 "cells": [
  {
   "cell_type": "markdown",
   "metadata": {},
   "source": [
    "# Populationsjämförelser\n",
    "\n",
    "https://www.ithsdistans.se/pluginfile.php/90698/mod_resource/content/2/Kap%208.%20-%20Populationsj%C3%A4mf%C3%B6relser.pdf"
   ]
  },
  {
   "cell_type": "markdown",
   "metadata": {},
   "source": [
    "ITT:\n",
    "- LM 8.1 Göra inferens kring skillnaden mellan två populationsvarianser baserat på oberoende urval.\n",
    "- LM 8.2 Göra inferens kring skillnaden mellan två populationsproportioner baserat på oberoende urval.\n",
    "- LM 8.3 Göra inferens kring skillnaden mellan två populationsmedelvärden baserat på oberoende urval.\n",
    "- LM 8.4 Göra inferens kring skillnaden mellan två populationsmedelvärden baserat på parvisa observationer"
   ]
  },
  {
   "cell_type": "markdown",
   "metadata": {},
   "source": [
    "Här blev inga barn gjorda... Se slajd, mycket likt från tidigare"
   ]
  },
  {
   "cell_type": "code",
   "execution_count": null,
   "metadata": {},
   "outputs": [],
   "source": []
  }
 ],
 "metadata": {
  "kernelspec": {
   "display_name": "StatMetAi23-Isak-Andersson-ej7jo_my",
   "language": "python",
   "name": "python3"
  },
  "language_info": {
   "name": "python",
   "version": "3.12.0"
  },
  "orig_nbformat": 4
 },
 "nbformat": 4,
 "nbformat_minor": 2
}
