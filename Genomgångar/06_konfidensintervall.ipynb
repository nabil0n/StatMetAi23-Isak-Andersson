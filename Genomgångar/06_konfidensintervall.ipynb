{
 "cells": [
  {
   "cell_type": "markdown",
   "metadata": {},
   "source": [
    "# Konfidensintervall\n",
    "\n",
    "https://www.ithsdistans.se/pluginfile.php/90692/mod_resource/content/1/Kap%206.%20-%20Konfidensintervall.pdf"
   ]
  },
  {
   "cell_type": "markdown",
   "metadata": {},
   "source": [
    "Förkortning KI (CI engelska)"
   ]
  },
  {
   "cell_type": "markdown",
   "metadata": {},
   "source": [
    "- punktskattare: En funktion som används för att gissa på populationsparameter.\n",
    "- punktskattning: Värdet hos en punktskattare från givet stickprov."
   ]
  },
  {
   "cell_type": "markdown",
   "metadata": {},
   "source": [
    "**Konfidensintervall**: ger ett spann av värden som, med given *konfidensgrad*, innehåller populationsparametern. Kallas även intervallskattning.\n",
    "\n",
    "Man vill göra en punktskattning som är +- felmarginalen."
   ]
  },
  {
   "cell_type": "markdown",
   "metadata": {},
   "source": [
    "- Signifikansnivå: (felsannolikhet) **alpha**. Given mellan 0 och 1.\n",
    "- Konfidensgrad: 100(1-alpha)%\n",
    "<h3>\n",
    "\n",
    "${\\bar x}\\pm z_{\\alpha/2}\\frac{\\sigma}{\\sqrt{n}}$\n",
    "\n",
    "</h3>"
   ]
  },
  {
   "cell_type": "code",
   "execution_count": 1,
   "metadata": {},
   "outputs": [],
   "source": [
    "#Importera nödvändiga paket\n",
    "import numpy as np\n",
    "from statsmodels.stats.proportion import proportion_confint\n",
    "from scipy.stats import t\n",
    "from scipy.stats import norm"
   ]
  },
  {
   "cell_type": "code",
   "execution_count": 22,
   "metadata": {},
   "outputs": [
    {
     "name": "stdout",
     "output_type": "stream",
     "text": [
      "konfidenseintervallet är 1.02 +- 0.012383391369768123\n"
     ]
    }
   ],
   "source": [
    "mean = 1.02\n",
    "std = 0.03\n",
    "n = 25\n",
    "alpha = 0.05\n",
    "\n",
    "t_crit = t.ppf(1-alpha/2, n-1) # Beräkna kritiskt t-värde\n",
    "sem = std / np.sqrt(n)\n",
    "statistic = t_crit * sem # Beräkna t-statistika\n",
    "\n",
    "print(f\"konfidenseintervallet är {mean} +- {statistic}\")"
   ]
  },
  {
   "cell_type": "code",
   "execution_count": 23,
   "metadata": {},
   "outputs": [
    {
     "name": "stdout",
     "output_type": "stream",
     "text": [
      "Detta: (0.9265784601379681, 1.0) Blir fel för då i exemplet söker vi ingen proportion. Hade vi velat ta ta reda på andelen som är över 1.02 hade vi kunnat göra det.\n"
     ]
    }
   ],
   "source": [
    "std = 0.03\n",
    "n = 25\n",
    "a = 0.05\n",
    "mean = 1.02\n",
    "sum = n*mean\n",
    "\n",
    "#Beräkna konfidensintervall för andelen\n",
    "ci = proportion_confint(n, sum, alpha=a, method='normal')\n",
    "\n",
    "print(f\"Detta: {ci} Blir fel för då i exemplet söker vi ingen proportion. Hade vi velat ta ta reda på andelen som är över 1.02 hade vi kunnat göra det.\")"
   ]
  },
  {
   "cell_type": "markdown",
   "metadata": {},
   "source": [
    "#### Tänk på:\n",
    "- Tolka dessa värden med försiktighet. Det är ju ändå bara en kvalificerad gissning.\n",
    "- **Det är alltså *inte* att $\\mu$ finns i intervallet**"
   ]
  },
  {
   "cell_type": "code",
   "execution_count": 41,
   "metadata": {},
   "outputs": [
    {
     "data": {
      "text/plain": [
       "(59.77523669351723, 505.55809663981614)"
      ]
     },
     "execution_count": 41,
     "metadata": {},
     "output_type": "execute_result"
    }
   ],
   "source": [
    "# Lantz upg 6.6\n",
    "# arr = np.array([124, 432, 349, 295, 266, 230])\n",
    "\n",
    "# alpha = 0.02\n",
    "# xbar = arr.mean()\n",
    "\n",
    "# std = arr.std(ddof=5)\n",
    "\n",
    "# ci = norm.interval(1-alpha, loc=xbar, scale=std/np.sqrt(len(arr)))\n",
    "\n",
    "# ci\n",
    "\n",
    "# FEEEEEEEEEEEEEEEEEEEEEEEEEEL"
   ]
  }
 ],
 "metadata": {
  "kernelspec": {
   "display_name": "StatMetAi23-Isak-Andersson-ej7jo_my",
   "language": "python",
   "name": "python3"
  },
  "language_info": {
   "codemirror_mode": {
    "name": "ipython",
    "version": 3
   },
   "file_extension": ".py",
   "mimetype": "text/x-python",
   "name": "python",
   "nbconvert_exporter": "python",
   "pygments_lexer": "ipython3",
   "version": "3.12.0"
  },
  "orig_nbformat": 4
 },
 "nbformat": 4,
 "nbformat_minor": 2
}
