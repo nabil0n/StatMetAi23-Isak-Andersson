{
 "cells": [
  {
   "cell_type": "markdown",
   "metadata": {},
   "source": [
    "# Hypotestest\n",
    "\n",
    "https://www.ithsdistans.se/pluginfile.php/90696/mod_resource/content/2/Kap%207.%20-%20Hypotesttest.pdf"
   ]
  },
  {
   "cell_type": "markdown",
   "metadata": {},
   "source": [
    "Begrepp:\n",
    "- nollhypotes och alternativhypotes (H0 och HA, ofta mednsänkt nolla resp A)\n",
    "    - H0, förmodat standardtillstånd. Beskriv med = (eller <= >=) Ensidigt.\n",
    "    - HA, motsäger standardtillstånd. Beskrivs med != (eller < >) Tvåsidigt.\n",
    "- Typ I och Typ II fel\n",
    "    - Typ I-fel: förkasta nollhypotesen när den är sann.\n",
    "        - Risken för typ-I betecknas $\\alpha$ och kallas signifikansnivå.\n",
    "    - Typ II-fel: behålla nollhypotesen när den är falsk.\n",
    "        - Risken för typ-II betecknas $\\beta$\n",
    "- p-värden och kritiska värden\n",
    "    - beror på hur HA specifierats.\n",
    "        - HA: $\\mu$ > $\\mu$ 0 Är då P(Z >= z)\n",
    "        - HA: $\\mu$ < $\\mu$ 0 Är då P(Z <= z)\n",
    "        - HA: $\\mu$ != $\\mu$ 0 Är då 2P(Z >= |z|)\n",
    "- med flera"
   ]
  },
  {
   "cell_type": "markdown",
   "metadata": {},
   "source": [
    "1. Identifiera vilken populationsparameter testet gäller.\n",
    "2. Avgör om det är ett en- eller tvåsidigt test.\n",
    "3. Inkludera likamedtecknet i nollhypotesen och använd\n",
    "alternativhypotesen för att etablera ett påstående."
   ]
  },
  {
   "cell_type": "markdown",
   "metadata": {},
   "source": [
    "#### Fyrstegsmetod:\n",
    "1. Specificera noll- och alternativhypoteser.\n",
    "2. Specificera signifikansnivån.\n",
    "3. Beräkna testfunktionens värde och p-värdet.\n",
    "4. Ta beslut och tolka resultaten.\n",
    "\n",
    "Det är viktigt att tydligt kommunicera resultaten.\n",
    "- Inte tillräckligt att bara säga “förkasta” eller “förkasta inte”.\n",
    "- Tolka implikationerna av resultaten."
   ]
  }
 ],
 "metadata": {
  "kernelspec": {
   "display_name": "StatMetAi23-Isak-Andersson-e2nV03pU",
   "language": "python",
   "name": "python3"
  },
  "language_info": {
   "name": "python",
   "version": "3.12.0"
  }
 },
 "nbformat": 4,
 "nbformat_minor": 2
}
