{
 "cells": [
  {
   "cell_type": "markdown",
   "metadata": {},
   "source": [
    "# Regression och Korrelation\n",
    "\n",
    "https://www.ithsdistans.se/mod/resource/view.php?id=38199\n",
    "mer om regression https://www.ithsdistans.se/mod/resource/view.php?id=38200"
   ]
  },
  {
   "cell_type": "markdown",
   "metadata": {},
   "source": [
    "Begrepp:\n",
    "- Deterministiskt\n",
    "    - Om värdet hos responsvariabeln är entydigt bestämt av värdet hos förklaringsvariablerna\n",
    "- Stokastiskt\n",
    "    - Ett finare ord för slumpvariabel"
   ]
  },
  {
   "cell_type": "markdown",
   "metadata": {},
   "source": [
    "Den linjära regressionsmodellen definieras som $y = \\beta _0 + \\beta _1x + \\epsilon$ där $\\beta_0$ är där linjen skär y-axeln och $\\beta_1$ är lutningen.\n",
    "\n",
    "$y$ är responsvariabeln, $x$ är förklaringsvariabeln och $\\epsilon$ är den stokastiska feltermen.\n",
    "\n",
    "Detta är för hela populationen."
   ]
  },
  {
   "cell_type": "markdown",
   "metadata": {},
   "source": [
    "För stickprov: $\\hat{y} = b_0 + b_1x$\n",
    "\n",
    "Där residualkvadratsumman = $(y - \\hat{y})^2$. Minsta kvadratmetoden!"
   ]
  },
  {
   "cell_type": "markdown",
   "metadata": {},
   "source": [
    "Bra att ifrågasätta $b_0$ då det är ett uppskattat värde för var y-axeln skärs."
   ]
  },
  {
   "cell_type": "markdown",
   "metadata": {},
   "source": [
    "**Kovarians** är ett mått som ger riktiningen på ett linjärt beroende mellan två variabler\n",
    "\n",
    "\n",
    "**Korrelationskoefficienten $r$** tar värden mellan -1 och 1 där -1 betyder att det korrelerar i en nedåtlutande riktning och 1 korrelerar i en uppåtlutande."
   ]
  },
  {
   "cell_type": "markdown",
   "metadata": {},
   "source": [
    "**Determinationskoefficienten betäcknas $R^{2}$** och är ett tal mellan 0 och 1 som säger hur stor andel av variationerna i responsvariabeldata som förklaras av den passande modellen."
   ]
  },
  {
   "cell_type": "markdown",
   "metadata": {},
   "source": [
    "---\n",
    "### Mer om regression (kap 13)\n",
    "\n",
    "Hypotestester\n",
    "\n",
    "- $H_0: \\rho = 0$\n",
    "- $H_A: \\rho \\neq 0$"
   ]
  },
  {
   "cell_type": "markdown",
   "metadata": {},
   "source": [
    "Mycket likheter till kap 6 och 7. Skriver inte så mycket. Kolla slajd"
   ]
  }
 ],
 "metadata": {
  "kernelspec": {
   "display_name": "StatMetAi23-Isak-Andersson-ej7jo_my",
   "language": "python",
   "name": "python3"
  },
  "language_info": {
   "name": "python",
   "version": "3.12.0"
  },
  "orig_nbformat": 4
 },
 "nbformat": 4,
 "nbformat_minor": 2
}
