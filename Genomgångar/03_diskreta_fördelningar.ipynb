{
 "cells": [
  {
   "cell_type": "markdown",
   "metadata": {},
   "source": [
    "# Diskreta fördelningar\n",
    "\n",
    "*https://www.ithsdistans.se/pluginfile.php/90685/mod_resource/content/1/Kap%203.%20-%20Diskreta%20f%C3%B6rdelningar.pdf*"
   ]
  },
  {
   "cell_type": "markdown",
   "metadata": {},
   "source": [
    "### Slumpvariabel\n",
    "\n",
    "- ge ett numeriskt värde för utfallen i ett experiment\n",
    "- Skrivs med stor bokstav (X) och sen x1, x2, x3\n",
    "- Klassas som diskret eller kontinuerligt.\n",
    "    - Diskret: ett uppräknerligt värde\n",
    "    - Kontinuerligt: Ett värde som går till oändligheten\n",
    "\n",
    "- Exempel: Defekta tröjor\n",
    "    - Utfallsrummet DD, DN, ND, NN\n",
    "    - X är antalet defekta tröjor\n",
    "    - I ovanstående rum är alltså X = {0,1,2} (skriv i ordning)\n",
    "    \n",
    "#### Fördelningar\n",
    "\n",
    "- Massfunktionen P(X = x)\n",
    "- **ÄR INTE SAMMA SOM**\n",
    "- Fördelningsfunktionen P(X <= x)\n",
    "\n",
    "- Två viktiga saker med diskreta fördelningar:\n",
    "    - Sannolikheten är mellan eller lika med 0 till 1\n",
    "    - Summan av alla sannolikheter ska vara == 1\n",
    "\n",
    "- Fördelningstabell\n",
    "    - För en d6 tärning så är alla utfall 1/6 i tabellen (massfunktion). P(X = x) Se slajd.\n",
    "    - För fördelningsfunktionen så finns det bara 1/6 chans där X <= 1, men 2/6 där X <= 2 osv.\n",
    "\n",
    "    *Här gick det fort sen... Missade en del*"
   ]
  },
  {
   "cell_type": "markdown",
   "metadata": {},
   "source": [
    "Exempel: Kreditkort\n",
    "\n",
    "| number of cards | Percentage |\n",
    "| ------------- | ------------- |\n",
    "| 0 | 2.5% |\n",
    "| 1 | 9.8% |\n",
    "| 2 | 16.6% |\n",
    "| 3 | 16.5% |\n",
    "| 4 | 54.6% |\n"
   ]
  },
  {
   "cell_type": "markdown",
   "metadata": {},
   "source": [
    "*Är detta en valid fördelning?*"
   ]
  },
  {
   "cell_type": "code",
   "execution_count": 2,
   "metadata": {},
   "outputs": [
    {
     "name": "stdout",
     "output_type": "stream",
     "text": [
      "Yes\n"
     ]
    }
   ],
   "source": [
    "total = 2.5 + 9.8 + 16.6 + 16.5 + 54.6\n",
    "if total == 100.0:\n",
    "    print(\"Yes\")"
   ]
  },
  {
   "cell_type": "markdown",
   "metadata": {},
   "source": [
    "*Vad är sannolilheten för inget kort?*"
   ]
  },
  {
   "cell_type": "code",
   "execution_count": 3,
   "metadata": {},
   "outputs": [],
   "source": [
    "no_card = 0.025"
   ]
  },
  {
   "cell_type": "markdown",
   "metadata": {},
   "source": [
    "*Vad är sannolikheten för färre än två kort?*"
   ]
  },
  {
   "cell_type": "code",
   "execution_count": 4,
   "metadata": {},
   "outputs": [
    {
     "name": "stdout",
     "output_type": "stream",
     "text": [
      "0.123\n"
     ]
    }
   ],
   "source": [
    "less_two = 0.025 + 0.098\n",
    "print(less_two)"
   ]
  },
  {
   "cell_type": "markdown",
   "metadata": {},
   "source": [
    "*Vad är sannolikheten för minst två kort?*"
   ]
  },
  {
   "cell_type": "code",
   "execution_count": 9,
   "metadata": {},
   "outputs": [
    {
     "name": "stdout",
     "output_type": "stream",
     "text": [
      "0.877\n",
      "0.877\n"
     ]
    }
   ],
   "source": [
    "two_more = 0.166 + 0.165 + 0.546\n",
    "print(two_more)\n",
    "two_more = 1 - less_two\n",
    "print(two_more)"
   ]
  },
  {
   "cell_type": "markdown",
   "metadata": {},
   "source": [
    "Väntevärde\n",
    "\n",
    "Se slajd för definition och formel.\n",
    "\n",
    "- Väntevärdet av aX + b: E(aX + b) = aE(X) + b\n",
    "- variansen av aX + b: V(aX + b) = a^2 V(X)"
   ]
  },
  {
   "cell_type": "markdown",
   "metadata": {},
   "source": [
    "#### Binominalfördelad slumpvariabel\n",
    "\n",
    "- antalet lyckade försök bland *n* antal försök i ett experiment.\n",
    "\n",
    "- Bernoulliprocsess: en serie om n oberoende och identiska försök av ett experiment där du efter... *missade mer här, kolla slajd, det går alltså för fort för at skriva med*"
   ]
  }
 ],
 "metadata": {
  "kernelspec": {
   "display_name": "StatMetAi23-Isak-Andersson-e2nV03pU",
   "language": "python",
   "name": "python3"
  },
  "language_info": {
   "codemirror_mode": {
    "name": "ipython",
    "version": 3
   },
   "file_extension": ".py",
   "mimetype": "text/x-python",
   "name": "python",
   "nbconvert_exporter": "python",
   "pygments_lexer": "ipython3",
   "version": "3.12.0"
  }
 },
 "nbformat": 4,
 "nbformat_minor": 2
}
