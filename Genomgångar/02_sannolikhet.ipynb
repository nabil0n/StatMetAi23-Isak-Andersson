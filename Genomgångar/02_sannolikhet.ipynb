{
 "cells": [
  {
   "cell_type": "markdown",
   "metadata": {},
   "source": [
    "# Föreläsning 2\n",
    "*https://www.ithsdistans.se/pluginfile.php/90679/mod_resource/content/2/Kap%202.%20-%20Sannolikhetsl%C3%A4ra.pdf*\n",
    "\n",
    "## Sannolikhetslära"
   ]
  },
  {
   "cell_type": "markdown",
   "metadata": {},
   "source": [
    "#### Grundläggande begrepp\n",
    "- Sannolikhet är en ett numeriskt värde som mäter hur troligt det är att en osäker händelse inträffar.\n",
    "- Värdet på en sannolikhet är mellan 0 och 1. False True.\n",
    "- Experiment menar att man gör ett försök till något som resulterar i något av flera osäkra utfall.\n",
    "    - OS exemplet: en tävlande kan få ett av 4 utfall, g, s, b eller n/a.\n",
    "    - S = {guld, silver, brons, ingen mendalj}\n",
    "    - Det ovan kallas för ett utfallsrum.\n",
    "\n",
    "\n",
    "- Händelse (event) är en delmängd av utfallsrummet.\n",
    "    - Exempel betyg:\n",
    "    - S = {A, B, C, D, E, F}\n",
    "    - A B C D E utgör delmängden för godkännt och F utgör den andra delmängden.\n",
    "\n",
    "- Utömmande händelser är sådana där typ \"ta medalj\" och \"inte ta medalj\" fyller alla händelser.\n",
    "- På samma sätt är samma exempel *Ömsesidigt utömmande*.\n",
    "\n",
    "- Venn-diagram\n",
    "    - Exempel: Händelse A och Händelse B ligger i utfallsrummet.\n",
    "    - Union (∪) kan skrivas om A och B som (A *∪* B). Då ska en händelse hända en eller båda. (kolla upp mer)\n",
    "        - A + B tar med den gemensamma delen två ggr och därmed FEL.\n",
    "        - A ∪ B är alltså totalen av \"området\" A och B.\n",
    "    - Snittet är det som finns i både A och B.\n",
    "        - A *∩* B blir alltså beskrivningen av det lilla överlappande området.\n",
    "    - Komplementet av A skrivs som (A^c) och beskriver alla simpla händelser som inte är A i utfallsrummet S.\n",
    "        - Exempel: Om A är att få medalj i utfallsummet om att antingen få medalj eller ej, så är A^c att inte få medalj.\n",
    "    "
   ]
  },
  {
   "cell_type": "markdown",
   "metadata": {},
   "source": [
    "### Tilldela sannolikheter\n",
    "\n",
    "- Subjektiva bedömningar, du frågar ngåon som är kunnig typ.\n",
    "- Objektiva bedömningar, du samlar data och räknar ut empiriska sannolikheter.\n",
    "- á-priori-sannolikhet (klassisk sannolikhet), logisk analys."
   ]
  },
  {
   "cell_type": "markdown",
   "metadata": {},
   "source": [
    "- Sannolikheten för en händelse är alltid mellan 0 och 1\n",
    "- Summan av alla händelser ska alltid bli 1.\n",
    "\n",
    "Att beräkna en empirisk sannolikhet kan göras med **relativ frekvens**\n",
    "- p(A) = #utfall i A / #utfall i S\n"
   ]
  },
  {
   "cell_type": "markdown",
   "metadata": {},
   "source": [
    "#### Exempel:\n",
    "Låt händelserna 𝐴, 𝐵, 𝐶 vara som ovan och antag att 𝑃({𝑔𝑢𝑙𝑑}) = 0.10, 𝑃({𝑠𝑖𝑙𝑣𝑒𝑟}) = 0.15, 𝑃({𝑏𝑟𝑜𝑛𝑠}) = 0.20 och 𝑃({𝑖𝑛𝑔𝑒𝑛 𝑚𝑒𝑑𝑎𝑙𝑗}) = 0.55 :\n",
    "- 𝑃(𝐴) = 𝑃({𝑔𝑢𝑙𝑑}) + 𝑃({𝑠𝑖𝑙𝑣𝑒𝑟}) + 𝑃({𝑏𝑟𝑜𝑛𝑠}) = 0.10 + 0.15 + 0.20 = 0.45.\n",
    "- 𝑃(𝐵 ∪ 𝐶) = 𝑃({𝑠𝑖𝑙𝑣𝑒𝑟}) + 𝑃({𝑏𝑟𝑜𝑛𝑠}) + 𝑃({𝑖𝑛𝑔𝑒𝑛 𝑚𝑒𝑑𝑎𝑙𝑗}) = 0.15 + 0.20 + 0.55 = 0.90.\n",
    "- 𝑃(𝐴 ∩ 𝐶) = 0; minns att 𝐴 och 𝐶 inte har några gemensamma händelser.\n",
    "- 𝑃(𝐵𝑐) = 𝑃({𝑔𝑢𝑙𝑑}) = 0.10."
   ]
  },
  {
   "cell_type": "markdown",
   "metadata": {},
   "source": [
    "#### Regler:\n",
    "\n",
    "- Komplementsregeln: 𝑃(Ä) = 1 − 𝑃(𝐴)\n",
    "- Additionsregeln: 𝑃(𝐴 ∪ 𝐵) = 𝑃(𝐴) + 𝑃(𝐵) − 𝑃(𝐴 ∩ 𝐵)"
   ]
  },
  {
   "cell_type": "markdown",
   "metadata": {},
   "source": [
    "#### Betingat och Obetingat\n",
    "\n",
    "- Obetingad: sannolikheten för en händelse utan restriktioner.\n",
    "    - Exemplet med jobb och arbetserfarenhet\n",
    "- Betingad: sannolikheten för en händelse givet att en annan händelse inträffar/inträffat.\n",
    "    - Betäcknas |. P(A|B)\n",
    "    - \"Vad är sannolikheten att jag klarar tentan *givet* att jag får rätt på de första två frågorna?\"\n",
    "\n",
    " \t![](../img/betingad.png)\n",
    "\n",
    "    - P(A | B) = P(A n B) / P(B)\n",
    "\n",
    "    0.16 / 0.25 = 0.64"
   ]
  },
  {
   "cell_type": "markdown",
   "metadata": {},
   "source": [
    "#### Skilj på oberoende och beroende händelser. Alltså de påverkar varandra eller ej.\n",
    "\n",
    "![](../img/beroende.png)"
   ]
  },
  {
   "cell_type": "markdown",
   "metadata": {},
   "source": [
    "#### Multiplikationsregeln\n",
    "\n",
    "För Beroende:\n",
    "- 𝑃(𝐴 ∩ 𝐵) = 𝑃(𝐴|𝐵)𝑃(𝐵) = 𝑃(𝐵|𝐴) 𝑃(𝐴)\n",
    "\n",
    "För Oberoende:\n",
    "- P(A n B) = P(A)P(B)"
   ]
  },
  {
   "cell_type": "markdown",
   "metadata": {},
   "source": [
    "#### Händelsetabeller\n",
    "\n",
    "- Kolla frekvensen av händelser mellan x och y. Typ skoförsäljningsexemplet i slajd."
   ]
  }
 ],
 "metadata": {
  "kernelspec": {
   "display_name": "StatMetAi23-Isak-Andersson-ej7jo_my",
   "language": "python",
   "name": "python3"
  },
  "language_info": {
   "name": "python",
   "version": "3.12.0"
  },
  "orig_nbformat": 4
 },
 "nbformat": 4,
 "nbformat_minor": 2
}
