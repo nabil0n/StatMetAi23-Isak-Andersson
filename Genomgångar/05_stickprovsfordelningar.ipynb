{
 "cells": [
  {
   "cell_type": "markdown",
   "metadata": {},
   "source": [
    "# Stickprovsfördelningar\n",
    "\n",
    "https://www.ithsdistans.se/pluginfile.php/90690/mod_resource/content/1/Kap%205.%20-%20Stickprovsf%C3%B6rdelningar.pdf"
   ]
  },
  {
   "cell_type": "markdown",
   "metadata": {},
   "source": [
    "- Population: Alla objekt av intresse i den statistiska frågan\n",
    "- Stickprov: En delmängd av populationen\n",
    "    - Stickprovsstatistikor: beräknas från stickprovet och änvänds som *inferens* om populationen.\n",
    "- Bias: tendensen för en statistika att över eller underskatta en populationsparameter.\n",
    "    - Urvalsbias: Dåligt vald \"pott\" att ta stickprov ur. *Systematiskt uteslutande av vissa grupper*\n",
    "    - Bortfallsbias: T.ex. dålig svarsfrekvens på en enkät. "
   ]
  },
  {
   "cell_type": "markdown",
   "metadata": {},
   "source": [
    "- OSU: Obundet slumpvalt urval (simple random sampling SRS)\n",
    "\n",
    "En population beskrivs av dess *Parametrar*.\n",
    "- En parameter är konstant, vars värde kan vara okänt.\n",
    "\n",
    "Stickprov beskrivs av *statistikor*.\n",
    "- En slumpvariabel varsx värde beror på det valda stickprovet.\n",
    "- Används för att göra en *inferens* om populationsparametrarna.\n",
    "- Vi kan ta *n* antal stickprov.\n",
    "\n",
    "Skattare (Estimator)\n",
    "- En statistika som används för att skatta en populationsparameter\n",
    "- tillexempel är stickprovsmedelvärdet ${\\bar X}$ en skattare för populationsmedelvärdet $\\mu$"
   ]
  },
  {
   "cell_type": "markdown",
   "metadata": {},
   "source": [
    "Skattning (Estimate)\n",
    "- Ett visst värde hos skattaren\n",
    "- tillexempel är det observerade stickprovsmedelvärdet ${\\bar x}$ en skattning av populationsmedelvärdet $\\mu$"
   ]
  },
  {
   "cell_type": "markdown",
   "metadata": {},
   "source": [
    "- Väntevärdet för $E(X)$ går mot $\\mu$ och väntevärdet för stickprovsmedelvärdet $E({\\bar X})$ går mot väntevärdet för X, alltså $E({\\bar X})$ = $E(X)$ = $\\mu$.\n",
    "- Variansen är som innan $\\sigma^2$\n",
    "- och standardavvikelsen är för $S(X)$ som tidigare roten ur $\\sigma^2$\n",
    "- men standardavvikelsen för $S({\\bar X})$ är $\\frac{\\sigma}{\\sqrt{n}}$"
   ]
  },
  {
   "cell_type": "markdown",
   "metadata": {},
   "source": [
    "### SE EXEMPEL I SLAJD"
   ]
  },
  {
   "cell_type": "markdown",
   "metadata": {},
   "source": [
    "# Centrala Gränsvärdessatsen (CGS)"
   ]
  },
  {
   "cell_type": "markdown",
   "metadata": {},
   "source": [
    "- För vilken pop som helst är stickprovsmedelvärdet approximativt normalfördelat om *n* är tillräckligt stor. Typ n >= 30."
   ]
  },
  {
   "cell_type": "markdown",
   "metadata": {},
   "source": [
    "#### t-fördelning"
   ]
  },
  {
   "cell_type": "markdown",
   "metadata": {},
   "source": [
    "- när inte pop stand avv är känd\n",
    "- då skattar vi stickprmv med s/roten ur n\n",
    "- t-fördelning använder det där n-1 i frihetgraderna\n",
    "- df (degrees of freedom) T blir som nya sätt att se standardavvikelser?\n",
    "\n",
    "**Här hänger du inte med. Läs boken och kolla inspelning**"
   ]
  },
  {
   "cell_type": "code",
   "execution_count": 4,
   "metadata": {},
   "outputs": [
    {
     "name": "stdout",
     "output_type": "stream",
     "text": [
      "2.2568628174911485\n",
      "0.012199999999999989\n"
     ]
    }
   ],
   "source": [
    "# Tonårstjejer exemplet\n",
    "\n",
    "# för 2.256 är Z = 0.9878\n",
    "P = (0.34-0.21)/(((0.21*0.79)/50)**0.5)\n",
    "print(P)\n",
    "print(1-0.9878)"
   ]
  }
 ],
 "metadata": {
  "kernelspec": {
   "display_name": "StatMetAi23-Isak-Andersson-e2nV03pU",
   "language": "python",
   "name": "python3"
  },
  "language_info": {
   "codemirror_mode": {
    "name": "ipython",
    "version": 3
   },
   "file_extension": ".py",
   "mimetype": "text/x-python",
   "name": "python",
   "nbconvert_exporter": "python",
   "pygments_lexer": "ipython3",
   "version": "3.12.0"
  }
 },
 "nbformat": 4,
 "nbformat_minor": 2
}
